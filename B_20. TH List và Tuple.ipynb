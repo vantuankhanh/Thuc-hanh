{
 "cells": [
  {
   "cell_type": "code",
   "execution_count": 12,
   "id": "50ce72f6",
   "metadata": {},
   "outputs": [],
   "source": [
    "students = [('Hà Văn Hoàng', 24, 'Hà Nội', 6, 9, 10),\n",
    "            ('Trần Minh Tân', 26, 'Nghệ An', 4, 8, 7),\n",
    "            ('Cao Hoàng Yến', 20, 'Bắc Ninh', 8, 10, 5),\n",
    "            ('Nguyễn Duy Linh', 21, 'Hà Nam', 5, 8, 9)]"
   ]
  },
  {
   "cell_type": "code",
   "execution_count": 13,
   "id": "822194ab",
   "metadata": {},
   "outputs": [],
   "source": [
    "max_toan = list(students[0])\n",
    "max_dtc = list(students[0]) + [0,0]\n",
    "student_temp = []\n",
    "\n",
    "for i in students:\n",
    "    temp = list(i)\n",
    "    if temp[3] > max_toan[3]:\n",
    "        max_toan = temp\n",
    "    dtc = (temp[3]*2 + temp[4] + temp[5])/4\n",
    "    temp.append(dtc)\n",
    "    if dtc > 8:\n",
    "        temp.append('Giỏi')\n",
    "    elif dtc > 6:\n",
    "        temp.append('Khá')\n",
    "    elif dtc > 5:\n",
    "        temp.append('Trung bình')\n",
    "    else:\n",
    "        temp.append('Yếu')\n",
    "    if max_dtc[6] < temp[6]:\n",
    "        max_dtc = temp\n",
    "    student_temp.append(tuple(temp))\n",
    "\n",
    "students = student_temp"
   ]
  },
  {
   "cell_type": "code",
   "execution_count": 14,
   "id": "088ddf0b",
   "metadata": {},
   "outputs": [
    {
     "name": "stdout",
     "output_type": "stream",
     "text": [
      "Học sinh có điểm toán cao nhất là: Cao Hoàng Yến\n"
     ]
    }
   ],
   "source": [
    "print('Học sinh có điểm toán cao nhất là:',max_toan[0])"
   ]
  },
  {
   "cell_type": "code",
   "execution_count": 15,
   "id": "4fb73370",
   "metadata": {},
   "outputs": [
    {
     "name": "stdout",
     "output_type": "stream",
     "text": [
      "Học sinh có điểm tổng kết cao nhất là: Hà Văn Hoàng\n"
     ]
    }
   ],
   "source": [
    "print('Học sinh có điểm tổng kết cao nhất là:',max_dtc[0])"
   ]
  },
  {
   "cell_type": "code",
   "execution_count": 16,
   "id": "faa73b7e",
   "metadata": {},
   "outputs": [
    {
     "name": "stdout",
     "output_type": "stream",
     "text": [
      "Danh sách sinh viên theo tên:\n",
      "('Cao Hoàng Yến', 20, 'Bắc Ninh', 8, 10, 5, 7.75, 'Khá')\n",
      "('Hà Văn Hoàng', 24, 'Hà Nội', 6, 9, 10, 7.75, 'Khá')\n",
      "('Nguyễn Duy Linh', 21, 'Hà Nam', 5, 8, 9, 6.75, 'Khá')\n",
      "('Trần Minh Tân', 26, 'Nghệ An', 4, 8, 7, 5.75, 'Trung bình')\n"
     ]
    }
   ],
   "source": [
    "print('Danh sách sinh viên theo tên:')\n",
    "students_ten = sorted(students, key=lambda x:x[0])\n",
    "for i in students_ten:\n",
    "    print(i)"
   ]
  },
  {
   "cell_type": "code",
   "execution_count": 17,
   "id": "da0b4f27",
   "metadata": {},
   "outputs": [
    {
     "name": "stdout",
     "output_type": "stream",
     "text": [
      "Danh sách sinh viên theo xếp loại:\n",
      "('Hà Văn Hoàng', 24, 'Hà Nội', 6, 9, 10, 7.75, 'Khá')\n",
      "('Cao Hoàng Yến', 20, 'Bắc Ninh', 8, 10, 5, 7.75, 'Khá')\n",
      "('Nguyễn Duy Linh', 21, 'Hà Nam', 5, 8, 9, 6.75, 'Khá')\n",
      "('Trần Minh Tân', 26, 'Nghệ An', 4, 8, 7, 5.75, 'Trung bình')\n"
     ]
    }
   ],
   "source": [
    "print('Danh sách sinh viên theo xếp loại:')\n",
    "students_xeploai = sorted(students, key=lambda x:x[6], reverse = True)\n",
    "for i in students_xeploai:\n",
    "    print(i)"
   ]
  },
  {
   "cell_type": "code",
   "execution_count": 18,
   "id": "a81e0877",
   "metadata": {},
   "outputs": [
    {
     "name": "stdout",
     "output_type": "stream",
     "text": [
      "Danh sách sinh viên theo thứ tự giảm dần điểm toán:\n",
      "('Cao Hoàng Yến', 20, 'Bắc Ninh', 8, 10, 5, 7.75, 'Khá')\n",
      "('Hà Văn Hoàng', 24, 'Hà Nội', 6, 9, 10, 7.75, 'Khá')\n",
      "('Nguyễn Duy Linh', 21, 'Hà Nam', 5, 8, 9, 6.75, 'Khá')\n",
      "('Trần Minh Tân', 26, 'Nghệ An', 4, 8, 7, 5.75, 'Trung bình')\n"
     ]
    }
   ],
   "source": [
    "print('Danh sách sinh viên theo thứ tự giảm dần điểm toán:')\n",
    "students_toan = sorted(students, key=lambda x:x[3], reverse = True)\n",
    "for i in students_toan:\n",
    "    print(i)"
   ]
  }
 ],
 "metadata": {
  "kernelspec": {
   "display_name": "Python 3 (ipykernel)",
   "language": "python",
   "name": "python3"
  },
  "language_info": {
   "codemirror_mode": {
    "name": "ipython",
    "version": 3
   },
   "file_extension": ".py",
   "mimetype": "text/x-python",
   "name": "python",
   "nbconvert_exporter": "python",
   "pygments_lexer": "ipython3",
   "version": "3.9.13"
  }
 },
 "nbformat": 4,
 "nbformat_minor": 5
}
