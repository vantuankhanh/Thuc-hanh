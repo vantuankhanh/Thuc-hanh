{
 "cells": [
  {
   "cell_type": "markdown",
   "id": "82d2f168",
   "metadata": {},
   "source": [
    "Thực Hành 2 : Lớp Và Đối tượng "
   ]
  },
  {
   "cell_type": "markdown",
   "id": "5ed04cf5",
   "metadata": {},
   "source": [
    "Bài 1 Bank Account"
   ]
  },
  {
   "cell_type": "code",
   "execution_count": null,
   "id": "cbf13b60",
   "metadata": {},
   "outputs": [],
   "source": [
    "\"\"\"Tạo một lớp tên là BankAccount, đại diện cho tài khoản ngân hàng. Lớp này cần có các thuộc tính sau:\n",
    "\n",
    "balance: số tiền trong tài khoản.\n",
    "account_number: số tài khoản.\n",
    "\n",
    "Các phương thức của lớp BankAccount bao gồm:\n",
    "__init__(self, account_number): khởi tạo một tài khoản với số tài khoản được cung cấp và số dư ban đầu là 0.\n",
    "deposit(self, amount): gửi tiền vào tài khoản.\n",
    "withdraw(self, amount): rút tiền khỏi tài khoản.\n",
    "get_balance(self): lấy số dư hiện tại trong tài khoản\"\"\""
   ]
  },
  {
   "cell_type": "code",
   "execution_count": 1,
   "id": "de2ba5a5",
   "metadata": {},
   "outputs": [
    {
     "name": "stdout",
     "output_type": "stream",
     "text": [
      "Account's balance: 3000\n"
     ]
    }
   ],
   "source": [
    "class BankAccount:\n",
    "    def __init__(self, account_number):\n",
    "        self.__balance = 0\n",
    "        self.account_number = account_number\n",
    "\n",
    "    @property\n",
    "    def balance(self):\n",
    "        return self.__balance\n",
    "    \n",
    "    @balance.setter\n",
    "    def balance(self, balance):\n",
    "        self.__balance = balance\n",
    "    \n",
    "    def deposit(self, amount):\n",
    "        self.balance += amount\n",
    "\n",
    "    def withdraw(self, amount):\n",
    "        self.balance -= amount\n",
    "\n",
    "    def get_balance(self):\n",
    "        print(f'Account\\'s balance: {self.balance}')\n",
    "\n",
    "acc = BankAccount(12345)\n",
    "acc.deposit(5000)\n",
    "acc.withdraw(2000)\n",
    "acc.get_balance()"
   ]
  },
  {
   "cell_type": "markdown",
   "id": "0dece1d8",
   "metadata": {},
   "source": [
    "Bài 2 Book "
   ]
  },
  {
   "cell_type": "code",
   "execution_count": null,
   "id": "8ab7557d",
   "metadata": {},
   "outputs": [],
   "source": [
    "\"\"\"Tạo một lớp có tên Book đại diện cho một cuốn sách. Lớp nên có các thuộc tính sau:\n",
    "title: tên sách.\n",
    "tác giả: tác giả của cuốn sách.\n",
    "year_published: năm xuất bản cuốn sách.\n",
    "isbn: ISBN của cuốn sách.\"\"\""
   ]
  },
  {
   "cell_type": "code",
   "execution_count": null,
   "id": "916c729c",
   "metadata": {},
   "outputs": [],
   "source": [
    "class Book:\n",
    "    def __init__(self, title, author, year_published, isbn):\n",
    "        self.title = title\n",
    "        self.author = author\n",
    "        self.year = year_published\n",
    "        self.isbn = isbn\n"
   ]
  },
  {
   "cell_type": "markdown",
   "id": "f343e1f2",
   "metadata": {},
   "source": [
    "Bài 3 People"
   ]
  },
  {
   "cell_type": "code",
   "execution_count": null,
   "id": "8be57c86",
   "metadata": {},
   "outputs": [],
   "source": [
    "\"\"\"Tạo class People gồm:\n",
    "\n",
    "Thuộc tính: name, age,address để lưu lần lượt các giá trị tên, tuổi và địa chỉ.\n",
    "Phương thức trong class People gồm: set(), get() là hàm nhập và xuất; hàm khởi tạo không tham số và hàm huỷ.\n",
    "Tạo class Students kế thừa từ class People.\n",
    "\n",
    "Class Students sẽ có thêm:\n",
    "\n",
    "Thuộc tính id để lưu mã sinh viên, math lưu điểm môn toán, physical để lưu điểm môn vật lý, chemistry để lưu điểm môn hoá học.\n",
    "Phương thức: set(), get(), GPA() để tính điểm trung bình 3 môn học.\"\"\""
   ]
  },
  {
   "cell_type": "code",
   "execution_count": 1,
   "id": "a0669c96",
   "metadata": {},
   "outputs": [
    {
     "name": "stdout",
     "output_type": "stream",
     "text": [
      "Input name: An\n",
      "Input age: 18\n",
      "Input address: 1st street\n",
      "Input mark of math: 8.5\n",
      "Input mark of physical: 9\n",
      "Input mark of chemistry: 8.73\n",
      "Name: An\n",
      "Age: 18\n",
      "Address: 1st street\n",
      "Math: 8.5\n",
      "Physical: 9.0\n",
      "Chemistry: 8.73\n",
      "GPA: 8.743333333333334\n"
     ]
    }
   ],
   "source": [
    "class People:\n",
    "    def __init__(self):\n",
    "        self.name = ''\n",
    "        self.age = 0\n",
    "        self.address = ''\n",
    "\n",
    "    def set_up(self):\n",
    "        self.name = input('Input name: ')\n",
    "        self.age = int(input('Input age: '))\n",
    "        self.address = input('Input address: ')\n",
    "\n",
    "    def info(self):\n",
    "        print(f'Name: {self.name}\\nAge: {self.age}\\nAddress: {self.address}')\n",
    "\n",
    "    def __del__(self):\n",
    "        pass\n",
    "\n",
    "class Student(People):\n",
    "    def __init__(self):\n",
    "        super().__init__()\n",
    "        self.math = 0\n",
    "        self.physical = 0\n",
    "        self.chemistry = 0\n",
    "\n",
    "    def set_up(self):\n",
    "        super().set_up()\n",
    "        self.math = float(input('Input mark of math: '))\n",
    "        self.physical = float(input('Input mark of physical: '))\n",
    "        self.chemistry = float(input('Input mark of chemistry: '))\n",
    "    \n",
    "    def info(self):\n",
    "        super().info()\n",
    "        print(f'Math: {self.math}\\nPhysical: {self.physical}\\nChemistry: {self.chemistry}')\n",
    "\n",
    "    def GPA(self):\n",
    "        print(f'GPA: {(self.math+self.physical+self.chemistry)/3}')\n",
    "\n",
    "    def __del__(self):\n",
    "        print(f'{self.name}\\'s deleted')\n",
    "        \n",
    "An = Student()\n",
    "An.set_up()\n",
    "An.info()\n",
    "An.GPA()\n"
   ]
  },
  {
   "cell_type": "markdown",
   "id": "de222df5",
   "metadata": {},
   "source": [
    "Bài tập 4 Color"
   ]
  },
  {
   "cell_type": "code",
   "execution_count": null,
   "id": "4b0a70da",
   "metadata": {},
   "outputs": [],
   "source": [
    "\"\"\"Xây dựng lớp Color gồm:\n",
    "\n",
    "Thuộc tính: TenMau, MaMau\n",
    "\n",
    "Phương thức:\n",
    "\n",
    "Cấu tử không tham số\n",
    "Cấu tử có tham số\n",
    "Hủy\n",
    "Nạp chồng toán tử nhập\n",
    "Nạp chồng toán tử xuất\n",
    "getTenMau() : hàm trả về TenMau\n",
    "\n",
    "Xây dựng lớp Point gồm:\n",
    "\n",
    "Thuộc tính: int x, y\n",
    "\n",
    "Phương thức:\n",
    "\n",
    "Cấu tử không tham số\n",
    "Cấu tử có tham số\n",
    "Hủy\n",
    "Nạp chồng toán tử nhập\n",
    "Nạp chồng toán tử xuất\n",
    "CheoChinh : hàm kiểm tra Point có thuộc đường chéo chính hay không (1 điểm thuộc đường chéo chính khi và chỉ khi tung độ bằng hoành độ).\n",
    "\n",
    "Xây dựng lớp Pixel kế thừa từ lớp Color và Point bao gồm thêm:\n",
    "Phương thức:\n",
    "\n",
    "Cấu tử không tham số\n",
    "Cấu tử có tham số\n",
    "Nạp chồng toán tử nhập\n",
    "Nạp chồng toán tử xuất\n",
    "KiemTra: hàm kiểm tra Pixel thuộc đường chéo chính và có màu “Xanh” hay không?\n",
    "Chương trình chính: Nhập vào từ bàn phím n Pixel (n nhập từ bàn phím). Hiển thị thông\n",
    "tin các Pixel thuộc đường chéo chính và có màu xanh.\"\"\""
   ]
  },
  {
   "cell_type": "code",
   "execution_count": null,
   "id": "ae5df8db",
   "metadata": {},
   "outputs": [],
   "source": [
    "class Color:\n",
    "    def __init__(self, Ten_Mau='', Ma_Mau=''):\n",
    "        self.name = Ten_Mau\n",
    "        self.code = Ma_Mau\n",
    "        \n",
    "    def __str__(self):\n",
    "        return f'({self.name},{self.code})'\n",
    "    \n",
    "    def get_TenMau(self):\n",
    "        return self.name\n",
    "\n",
    "class Point:\n",
    "    def __init__(self, x=0, y=0):\n",
    "        self.x = x\n",
    "        self.y = y\n",
    "\n",
    "    def __str__(self):\n",
    "        return f'({self.x},{self.y})'\n",
    "    \n",
    "    def cheo_chinh(self):\n",
    "        return self.x == self.y\n",
    "    \n",
    "class Pixel(Color, Point):\n",
    "    def __init__(self, Ten_Mau='', Ma_Mau='', x=0, y=0):\n",
    "        Color.__init__(self, Ten_Mau, Ma_Mau)\n",
    "        Point.__init__(self, x, y)\n",
    "\n",
    "    def check(self):\n",
    "        return self.cheo_chinh() and self.get_TenMau() == 'Xanh'\n",
    "    \n",
    "    def __str__(self):\n",
    "        return f'({self.name},{self.code}),({self.x},{self.y})'\n",
    "\n",
    "n = int(input('Nhập số pixel: '))\n",
    "pixel = []\n",
    "for i in range(n):\n",
    "    name = input('Nhập tên màu: ')\n",
    "    code = input('Nhập mã màu: ')\n",
    "    x = int(input('Nhập tọa độ x: '))\n",
    "    y = int(input('Nhập tọa độ y: '))\n",
    "    diem = Pixel(name, code, x, y)\n",
    "    pixel.append(diem)\n",
    "\n",
    "print('Các pixel thuộc đường chéo chính: ')\n",
    "for i in pixel:\n",
    "    if i.check():\n",
    "        print(i)"
   ]
  }
 ],
 "metadata": {
  "kernelspec": {
   "display_name": "Python 3 (ipykernel)",
   "language": "python",
   "name": "python3"
  },
  "language_info": {
   "codemirror_mode": {
    "name": "ipython",
    "version": 3
   },
   "file_extension": ".py",
   "mimetype": "text/x-python",
   "name": "python",
   "nbconvert_exporter": "python",
   "pygments_lexer": "ipython3",
   "version": "3.9.13"
  },
  "vscode": {
   "interpreter": {
    "hash": "9deea79bfd8769c20cdb41e577c31349975f53057f7c4a88718c49dab3f025eb"
   }
  }
 },
 "nbformat": 4,
 "nbformat_minor": 5
}
