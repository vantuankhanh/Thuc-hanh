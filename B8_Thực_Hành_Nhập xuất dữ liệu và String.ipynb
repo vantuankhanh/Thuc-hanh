{
 "cells": [
  {
   "cell_type": "code",
   "execution_count": 5,
   "id": "c4500382",
   "metadata": {},
   "outputs": [
    {
     "name": "stdout",
     "output_type": "stream",
     "text": [
      "Tôi\n",
      "Titíh\n",
      "T í   c\n",
      "Titíhđ ulc\n",
      "hcịl ud iđ hcíht iôT\n"
     ]
    }
   ],
   "source": [
    "# cắt string theo index\n",
    "# cú pháp : <tên biến > [start:end:step]\n",
    "text = \"Tôi thích đi du lịch\"\n",
    "print(text[0:3])\n",
    "print(text[0:10:2])\n",
    "print(text[0:len(text):3])\n",
    "print(text[: : 2]) #start default là 0 , end default là len(text) ,step có thể đi từ giá trị âm\n",
    "print(text[: : -1])"
   ]
  },
  {
   "cell_type": "code",
   "execution_count": 9,
   "id": "493419fb",
   "metadata": {},
   "outputs": [],
   "source": [
    "# ghep chuỗi và lặp chuỗi \n"
   ]
  },
  {
   "cell_type": "code",
   "execution_count": 2,
   "id": "ce8e459a",
   "metadata": {},
   "outputs": [],
   "source": [
    "# count\n"
   ]
  },
  {
   "cell_type": "markdown",
   "id": "b6a2b340",
   "metadata": {},
   "source": [
    "#### thực hành xử lý và in ra các thông tin tương ứng trong chuỗi "
   ]
  },
  {
   "cell_type": "code",
   "execution_count": 8,
   "id": "b1467f87",
   "metadata": {},
   "outputs": [
    {
     "name": "stdout",
     "output_type": "stream",
     "text": [
      "Lớp học \n",
      "python\n",
      "căn bản \n",
      "buổi 8\n"
     ]
    }
   ],
   "source": [
    "content = \"Lớp học python căn bản buổi 8\"\n",
    "# in ra 2 chữ :lớp học\n",
    "print(content[0:8])\n",
    "# in ra 2 chữ: python\n",
    "print(content[8:14])\n",
    "# in ra 2 chữ: căn bản\n",
    "print(content[15:23])\n",
    "# in ra chữ : buổi 8\n",
    "print(content[-6:])"
   ]
  },
  {
   "cell_type": "markdown",
   "id": "ac31fbb3",
   "metadata": {},
   "source": [
    "# Bài Tập thực hành"
   ]
  },
  {
   "cell_type": "markdown",
   "id": "4ec0a0d3",
   "metadata": {},
   "source": [
    "## Bài Tập 1"
   ]
  },
  {
   "cell_type": "markdown",
   "id": "ca31248e",
   "metadata": {},
   "source": [
    "Giả sử một chiếc ô tô có vận tốc ban đầu v0, gia tốc a và thời gian t.</p>\n",
    "Viết chương trình python để tìm vận tốc cuối cùng của ô tô và in kết quả ra màn hình.</p>\n",
    "Sử dụng lệnh ép kiểu input() để nhập các giá trị tương ứng cho v0, a và t.</p>\n",
    "Dùng công thức v = v0 + a.t để tính vận tốc cuối cùng"
   ]
  },
  {
   "cell_type": "code",
   "execution_count": 15,
   "id": "aa8f4dde",
   "metadata": {},
   "outputs": [
    {
     "name": "stdout",
     "output_type": "stream",
     "text": [
      "Nhap van toc ban dau: 13.5\n",
      "Nhap gia toc: 3.5\n",
      "Nhap thoi gian: 5\n",
      "Van toc cuoi cung la: 31\n"
     ]
    }
   ],
   "source": [
    "v0=float(input('Nhap van toc ban dau: '))\n",
    "a=float(input('Nhap gia toc: '))\n",
    "t=float(input('Nhap thoi gian: '))\n",
    "print('Van toc cuoi cung la: %2d'%(v0+a*t))"
   ]
  },
  {
   "cell_type": "markdown",
   "id": "8b02bcd4",
   "metadata": {},
   "source": [
    "## Bài tập 2"
   ]
  },
  {
   "cell_type": "markdown",
   "id": "ab6b37b6",
   "metadata": {},
   "source": [
    "Viết chương trình để nhập điểm kiểm tra, điểm thi giữa kỳ, điểm thi cuối kỳ, sau đó tính tổng điểm và in kết quả ra màn hình"
   ]
  },
  {
   "cell_type": "code",
   "execution_count": 14,
   "id": "095535a9",
   "metadata": {},
   "outputs": [
    {
     "name": "stdout",
     "output_type": "stream",
     "text": [
      "Nhap diem kiem tra lan 1: 5\n",
      "Nhap diem kiem tra lan 2: 6.5\n",
      "Nhap diem kiem tra giua ky: 6.3\n",
      "Nhap diem kiem tra cuoi ky: 4.5\n",
      "Tong diem kiem tra la: 22\n"
     ]
    }
   ],
   "source": [
    "a=float(input('Nhap diem kiem tra lan 1: '))\n",
    "b=float(input('Nhap diem kiem tra lan 2: '))\n",
    "c=float(input('Nhap diem kiem tra giua ky: '))\n",
    "d=float(input('Nhap diem kiem tra cuoi ky: '))\n",
    "print('Tong diem kiem tra la: %2d'%(a+b+c+d))"
   ]
  },
  {
   "cell_type": "markdown",
   "id": "076b8074",
   "metadata": {},
   "source": [
    "## Bài Tập 3"
   ]
  },
  {
   "cell_type": "markdown",
   "id": "c0009d80",
   "metadata": {},
   "source": [
    "Viết chương chình nhập vào vận tốc và thời gian của xe chạy của xe taxi </p>\n",
    "yêu cầu 1 :tính quãng đường xe chạy được bao nhiêu km.</p>\n",
    "yêu cầu 2 : đổi km về m </p>\n",
    "yêu cầu 3 : cho biết cứ mỗi 1 km thì được tính với giá cước là 23000 đồng ,hãy tính tổng số tiền khách phải trả."
   ]
  },
  {
   "cell_type": "code",
   "execution_count": 11,
   "id": "c0667dd5",
   "metadata": {},
   "outputs": [
    {
     "name": "stdout",
     "output_type": "stream",
     "text": [
      "Nhap van toc xe (km/h): 30\n",
      "Nhap thoi gian xe chay (h): 2\n",
      "Quang duong xe chay la:  60.0\n",
      "Quang duong xe chay la (m):  60000.0\n",
      "So tien khach phai tra:  1380000.0\n"
     ]
    }
   ],
   "source": [
    "a=float(input('Nhap van toc xe (km/h): '))\n",
    "b=float(input('Nhap thoi gian xe chay (h): '))\n",
    "c=a*b\n",
    "print('Quang duong xe chay la: ',c)\n",
    "print('Quang duong xe chay la (m): ',1000*c)\n",
    "print('So tien khach phai tra: ',c*23000)"
   ]
  },
  {
   "cell_type": "markdown",
   "id": "14e3f09c",
   "metadata": {},
   "source": [
    "## Bài Tập 4"
   ]
  },
  {
   "cell_type": "markdown",
   "id": "07a5d8a0",
   "metadata": {},
   "source": [
    "Nhập vào một string và một số x ,hãy xóa x ký tự đầu tiên của string </p>\n",
    "ví dụ : string = \"hello python\" ,x = 3 </p>\n",
    "    output: \"lo python\""
   ]
  },
  {
   "cell_type": "code",
   "execution_count": 17,
   "id": "b1465df0",
   "metadata": {},
   "outputs": [
    {
     "name": "stdout",
     "output_type": "stream",
     "text": [
      "Nhap 1 dong string: hello python\n",
      "Nhap so x: 3\n",
      "lo python\n"
     ]
    }
   ],
   "source": [
    "a=input('Nhap 1 dong string: ')\n",
    "b=int(input('Nhap so x: '))\n",
    "print(a[b:])"
   ]
  },
  {
   "cell_type": "markdown",
   "id": "1cd79c05",
   "metadata": {},
   "source": [
    "## Bài Tập 5"
   ]
  },
  {
   "cell_type": "markdown",
   "id": "d0956054",
   "metadata": {},
   "source": [
    "Nhập vào một string ,hãy kiểm tra đây có phải là một string đối xứng không</p>\n",
    "Lưu ý : chuối đối xứng là chuối có thứ tự giống nhau khi đọc từ trái sáng phải hoặc ngược lại</p>\n",
    "vd : abba , abcddcba"
   ]
  },
  {
   "cell_type": "code",
   "execution_count": 19,
   "id": "43d5c2eb",
   "metadata": {},
   "outputs": [
    {
     "name": "stdout",
     "output_type": "stream",
     "text": [
      "Nhap 1 dong string: abcddcba\n",
      "True\n"
     ]
    }
   ],
   "source": [
    "a=input('Nhap 1 dong string: ')\n",
    "print(a==a[::-1])"
   ]
  },
  {
   "cell_type": "markdown",
   "id": "2d88272f",
   "metadata": {},
   "source": [
    "## Bài Tập 6 "
   ]
  },
  {
   "cell_type": "markdown",
   "id": "ba2c57ba",
   "metadata": {},
   "source": [
    "Nhập vào một chuỗi string gồm 5 chữ và thực hiện các thao tác :</p>\n",
    "    in ra đổi 2 chữ đầu tiên</p>\n",
    "    in ra chuỗi đó đều in thường</p>\n",
    "    in ra chuỗi đó đều in hoa</p>\n",
    "    in cắt chuỗi đó thành nhiều chuỗi nhỏ</p>\n",
    "    in cắt chuỗi đó thành những từ có nghĩa</p>\n",
    "    "
   ]
  },
  {
   "cell_type": "code",
   "execution_count": 40,
   "id": "a86cc73b",
   "metadata": {},
   "outputs": [
    {
     "name": "stdout",
     "output_type": "stream",
     "text": [
      "Nhap 1 chuoi string 5 tu: Viet Nam trong toi la\n",
      "Tu thu nhat doi thanh: Sai\n",
      "Tu thu hai doi thanh: Gon\n",
      "Sai Gon trong toi la\n",
      "viet nam trong toi la\n",
      "VIET NAM TRONG TOI LA\n",
      "['Viet', 'Nam', 'trong', 'toi', 'la']\n"
     ]
    }
   ],
   "source": [
    "a=input('Nhap 1 chuoi string 5 tu: ')\n",
    "b=a.split()\n",
    "b[0]=input('Tu thu nhat doi thanh: ')\n",
    "b[1]=input('Tu thu hai doi thanh: ')\n",
    "print(\" \".join(b))\n",
    "print(a.lower())\n",
    "print(a.upper())\n",
    "print(a.split())"
   ]
  },
  {
   "cell_type": "markdown",
   "id": "a562eb4b",
   "metadata": {},
   "source": [
    "## Bài Tập 7"
   ]
  },
  {
   "cell_type": "markdown",
   "id": "fe077b04",
   "metadata": {},
   "source": [
    "Nhập vào 2 chuỗi , chuỗi 1 là Họ và tên đệm, chuỗi 2 là tên của mình </p>\n",
    "Yêu cầu : nối 2 chuỗi lại hoàn chỉnh </p>\n",
    "    vd : Họ tên đêm : Nguyễn Văn </p>\n",
    "        Tên : A</p>\n",
    "     output: Nguyễn Văn A"
   ]
  },
  {
   "cell_type": "code",
   "execution_count": 29,
   "id": "c7787a7c",
   "metadata": {},
   "outputs": [
    {
     "name": "stdout",
     "output_type": "stream",
     "text": [
      "Nhap ho va ten dem: Van Tuan\n",
      "Nhap ten: Khanh\n",
      "Ho va ten:  Van Tuan Khanh\n"
     ]
    }
   ],
   "source": [
    "a=input('Nhap ho va ten dem: ')\n",
    "b=input('Nhap ten: ')\n",
    "print('Ho va ten: ',a+' '+b)"
   ]
  }
 ],
 "metadata": {
  "kernelspec": {
   "display_name": "Python 3 (ipykernel)",
   "language": "python",
   "name": "python3"
  },
  "language_info": {
   "codemirror_mode": {
    "name": "ipython",
    "version": 3
   },
   "file_extension": ".py",
   "mimetype": "text/x-python",
   "name": "python",
   "nbconvert_exporter": "python",
   "pygments_lexer": "ipython3",
   "version": "3.9.13"
  }
 },
 "nbformat": 4,
 "nbformat_minor": 5
}
