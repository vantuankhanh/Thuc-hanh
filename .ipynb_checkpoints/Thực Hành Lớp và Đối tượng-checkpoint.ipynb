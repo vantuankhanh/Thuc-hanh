{
 "cells": [
  {
   "cell_type": "markdown",
   "id": "03b3be49",
   "metadata": {},
   "source": [
    "### Thực Hành Lớp và đối tượng _ 1"
   ]
  },
  {
   "cell_type": "markdown",
   "id": "1e7ae83e",
   "metadata": {},
   "source": [
    "Bài 1:"
   ]
  },
  {
   "cell_type": "code",
   "execution_count": null,
   "id": "0d986f88",
   "metadata": {},
   "outputs": [],
   "source": [
    "\"\"\" Viết Class NhanVien gồm các thuộc tính :\n",
    "+ Tên \n",
    "+ Tuổi \n",
    "+ Địa chỉ \n",
    "+ Tổng số giờ làm\n",
    "\n",
    "Và các phương thức :\n",
    "- Phương thức tạo\n",
    "- input_info(): Nhập các thông tin cho nhân viên từ bàn phím\n",
    "- print_info(): In ra tất cả các thông tin của nhân viên\n",
    "- tinh_thuong(): Tính toán và trả về số tiền thưởng của nhân viên theo công thức sau :\n",
    "Nếu tổng số giờ làm của nhân viên >= 200 thì thưởng = lương * 20%\n",
    "Nếu tổng số giờ làm của nhân viên <200  và >= 100 thì thưởng = lương * 10%\n",
    "Nếu tổng số giờ làm của nhân viên <100 thì thưởng = 0\"\"\""
   ]
  },
  {
   "cell_type": "code",
   "execution_count": null,
   "id": "1d874d9a",
   "metadata": {},
   "outputs": [],
   "source": [
    "class NhanVien():\n",
    "    def __init__(self, name, age, address, work_hour):\n",
    "        self.name = name\n",
    "        self.age = age\n",
    "        self.address = address\n",
    "        self.work_hour = work_hour\n",
    "    \n",
    "    def input_info(self):\n",
    "        self.name = input('Nhập tên nhân viên: ')\n",
    "        self.age = input('Nhập tuổi nhân viên: ')\n",
    "        self.address = input('Nhập địa chỉ nhân viên: ')\n",
    "        self.work_hour = input('Nhập tổng số giờ làm của nhân viên: ')\n",
    "        \n",
    "    def print_info(self):\n",
    "        print('Tên:',self.name)\n",
    "        print('Tuổi: ',self.age)\n",
    "        print('Địa chỉ:',self.address)\n",
    "        print('Tổng số giờ làm:',self.work_hour)\n",
    "        \n",
    "    def tinh_thuong(self, salary):\n",
    "        if self.work_hour >= 200:\n",
    "            return salary*1.2\n",
    "        elif 100 <= self.work_hour < 200:\n",
    "            return salary*1.1\n",
    "        return 0"
   ]
  },
  {
   "cell_type": "markdown",
   "id": "43cc32e2",
   "metadata": {},
   "source": [
    "Bài 2:"
   ]
  },
  {
   "cell_type": "code",
   "execution_count": null,
   "id": "fe63e1aa",
   "metadata": {},
   "outputs": [],
   "source": [
    "\"\"\"Tạo Class có thên SoHoc gồm có các thuộc tính và phương thức sau :\n",
    "+ Thuộc tính : number1 ,number2\n",
    "+ Phương thức :\n",
    "- phương thức tạo __int()__\n",
    "- input_info(): dùng để nhập 2 số number1 và number2\n",
    "- print_info(): dùng để hiển number1 và number2\n",
    "- addition(): dùng để cộng number1,number2\n",
    "- subtract(): dùng để trừ number1 và number2\n",
    "- multi(): dùng để nhân number1 và number2 \n",
    "- division(): dùng để chia number1 và number2\n",
    "\n",
    "Sau khi tạo class , khởi tạo 1 object SoHoc và in ra kết quả tính toán từ các hàm thực hiên phép tính\"\"\""
   ]
  },
  {
   "cell_type": "code",
   "execution_count": null,
   "id": "3fa03125",
   "metadata": {},
   "outputs": [],
   "source": [
    "class SoHoc:\n",
    "    def __init__(self, number1, number2)"
   ]
  },
  {
   "cell_type": "markdown",
   "id": "627724a1",
   "metadata": {},
   "source": [
    "Bài 3:"
   ]
  },
  {
   "cell_type": "code",
   "execution_count": null,
   "id": "7b77d6ee",
   "metadata": {},
   "outputs": [],
   "source": [
    "\"\"\"Hãy tạo class SinhVien gồm các thông tin: họ tên, mã số, ngày sinh, địa chỉ, điểm\n",
    "trung bình 4 năm học, số điện thoại. Mỗi sinh viên có thể có tối đa 3 số điện thoại.\n",
    "Viết chương trình cho phép:\n",
    "- Nhập một danh sách các sinh viên với đầy đủ các thông tin nêu trên.\n",
    "- Thêm một sinh viên vào danh sách.\n",
    "- Tìm kiếm sinh viên trong danh sách theo mã số hoặc theo họ tên.\n",
    "- Xóa một sinh viên khỏi danh sách dựa theo mã số.\n",
    "- Sửa dữ liệu một sinh viên.\n",
    "- Sắp xếp lại các sinh viên theo họ tên hoặc theo mã số.\n",
    "- Sắp xếp lại các sinh viên theo điểm trung bình từ cao đến thấp.\n",
    "- Xuất danh theo thứ tự mã số tăng dần.\n",
    "- Xuất danh sách theo thứ tự điểm trung bình giảm dần và có thêm cột sắp hạng\n",
    "sinh viên. \n",
    " \"\"\""
   ]
  },
  {
   "cell_type": "code",
   "execution_count": null,
   "id": "c93bc5a4",
   "metadata": {},
   "outputs": [],
   "source": []
  },
  {
   "cell_type": "markdown",
   "id": "f80207e3",
   "metadata": {},
   "source": [
    "Bài 4: "
   ]
  },
  {
   "cell_type": "code",
   "execution_count": null,
   "id": "6748c0ad",
   "metadata": {},
   "outputs": [],
   "source": [
    "\"\"\"\n",
    "Xây dựng lớp Phân số (Fraction) có các thành phần sau:\n",
    "- Các thuộc tính: Tử số, mẫu số.\n",
    "- Phương thức tạo để khởi tạo giá trị cho tử số và mẫu số.\n",
    "- Các phương thức setter và getter.\n",
    "- Các phương thức:\n",
    "    + Nhập phân số\n",
    "    + In Phân số\n",
    "    + Rút gọn phân số\n",
    "    + Nghịch đảo phân số\n",
    "    + add(), sub(), mul(), div() tương ứng để thực hiện cộng, trừ, nhân, chia hai phân số cho nhau.\n",
    "\"\"\""
   ]
  },
  {
   "cell_type": "markdown",
   "id": "9893efcd",
   "metadata": {},
   "source": [
    "Bài 5: "
   ]
  },
  {
   "cell_type": "code",
   "execution_count": null,
   "id": "53627fc9",
   "metadata": {},
   "outputs": [],
   "source": [
    "\"\"\"Xây dựng lớp hình chữ nhật (Rectangle) có các thành phần sau:\n",
    "* Các thuộc tính: chiều dài, chiều rộng.\n",
    "* Các phương thức:\n",
    "- Nhập chiều dài, chiều rộng\n",
    "- Tính diện tích\n",
    "- Tính chu vi\"\"\""
   ]
  }
 ],
 "metadata": {
  "kernelspec": {
   "display_name": "Python 3 (ipykernel)",
   "language": "python",
   "name": "python3"
  },
  "language_info": {
   "codemirror_mode": {
    "name": "ipython",
    "version": 3
   },
   "file_extension": ".py",
   "mimetype": "text/x-python",
   "name": "python",
   "nbconvert_exporter": "python",
   "pygments_lexer": "ipython3",
   "version": "3.9.13"
  }
 },
 "nbformat": 4,
 "nbformat_minor": 5
}
