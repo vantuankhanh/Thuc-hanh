{
 "cells": [
  {
   "cell_type": "markdown",
   "id": "82d2f168",
   "metadata": {},
   "source": [
    "Thực Hành 2 : Lớp Và Đối tượng "
   ]
  },
  {
   "cell_type": "markdown",
   "id": "5ed04cf5",
   "metadata": {},
   "source": [
    "Bài 1 Bank Account"
   ]
  },
  {
   "cell_type": "code",
   "execution_count": null,
   "id": "cbf13b60",
   "metadata": {},
   "outputs": [],
   "source": [
    "\"\"\"Tạo một lớp tên là BankAccount, đại diện cho tài khoản ngân hàng. Lớp này cần có các thuộc tính sau:\n",
    "\n",
    "balance: số tiền trong tài khoản.\n",
    "account_number: số tài khoản.\n",
    "\n",
    "Các phương thức của lớp BankAccount bao gồm:\n",
    "__init__(self, account_number): khởi tạo một tài khoản với số tài khoản được cung cấp và số dư ban đầu là 0.\n",
    "deposit(self, amount): gửi tiền vào tài khoản.\n",
    "withdraw(self, amount): rút tiền khỏi tài khoản.\n",
    "get_balance(self): lấy số dư hiện tại trong tài khoản\"\"\""
   ]
  },
  {
   "cell_type": "code",
   "execution_count": 1,
   "id": "de2ba5a5",
   "metadata": {},
   "outputs": [
    {
     "name": "stdout",
     "output_type": "stream",
     "text": [
      "Account's balance: 3000\n"
     ]
    }
   ],
   "source": [
    "class BankAccount:\n",
    "    def __init__(self, account_number):\n",
    "        self.__balance = 0\n",
    "        self.account_number = account_number\n",
    "\n",
    "    @property\n",
    "    def balance(self):\n",
    "        return self.__balance\n",
    "    \n",
    "    @balance.setter\n",
    "    def balance(self, balance):\n",
    "        self.__balance = balance\n",
    "    \n",
    "    def deposit(self, amount):\n",
    "        self.balance += amount\n",
    "\n",
    "    def withdraw(self, amount):\n",
    "        self.balance -= amount\n",
    "\n",
    "    def get_balance(self):\n",
    "        print(f'Account\\'s balance: {self.balance}')\n",
    "\n",
    "acc = BankAccount(12345)\n",
    "acc.deposit(5000)\n",
    "acc.withdraw(2000)\n",
    "acc.get_balance()"
   ]
  },
  {
   "cell_type": "markdown",
   "id": "0dece1d8",
   "metadata": {},
   "source": [
    "Bài 2 Book "
   ]
  },
  {
   "cell_type": "code",
   "execution_count": null,
   "id": "8ab7557d",
   "metadata": {},
   "outputs": [],
   "source": [
    "\"\"\"Tạo một lớp có tên Book đại diện cho một cuốn sách. Lớp nên có các thuộc tính sau:\n",
    "title: tên sách.\n",
    "tác giả: tác giả của cuốn sách.\n",
    "year_published: năm xuất bản cuốn sách.\n",
    "isbn: ISBN của cuốn sách.\"\"\""
   ]
  },
  {
   "cell_type": "code",
   "execution_count": null,
   "id": "916c729c",
   "metadata": {},
   "outputs": [],
   "source": []
  },
  {
   "cell_type": "markdown",
   "id": "f343e1f2",
   "metadata": {},
   "source": [
    "Bài 3 People"
   ]
  },
  {
   "cell_type": "code",
   "execution_count": null,
   "id": "8be57c86",
   "metadata": {},
   "outputs": [],
   "source": [
    "\"\"\"Tạo class People gồm:\n",
    "\n",
    "Thuộc tính: name, age,address để lưu lần lượt các giá trị tên, tuổi và địa chỉ.\n",
    "Phương thức trong class People gồm: set(), get() là hàm nhập và xuất; hàm khởi tạo không tham số và hàm huỷ.\n",
    "Tạo class Students kế thừa từ class People.\n",
    "\n",
    "Class Students sẽ có thêm:\n",
    "\n",
    "Thuộc tính id để lưu mã sinh viên, math lưu điểm môn toán, physical để lưu điểm môn vật lý, chemistry để lưu điểm môn hoá học.\n",
    "Phương thức: set(), get(), GPA() để tính điểm trung bình 3 môn học.\"\"\""
   ]
  },
  {
   "cell_type": "code",
   "execution_count": null,
   "id": "a0669c96",
   "metadata": {},
   "outputs": [],
   "source": []
  },
  {
   "cell_type": "markdown",
   "id": "de222df5",
   "metadata": {},
   "source": [
    "Bài tập 4 Color"
   ]
  },
  {
   "cell_type": "code",
   "execution_count": null,
   "id": "4b0a70da",
   "metadata": {},
   "outputs": [],
   "source": [
    "\"\"\"Xây dựng lớp Color gồm:\n",
    "\n",
    "Thuộc tính: TenMau, MaMau\n",
    "\n",
    "Phương thức:\n",
    "\n",
    "Cấu tử không tham số\n",
    "Cấu tử có tham số\n",
    "Hủy\n",
    "Nạp chồng toán tử nhập\n",
    "Nạp chồng toán tử xuất\n",
    "getTenMau() : hàm trả về TenMau\n",
    "Xây dựng lớp Point gồm:\n",
    "\n",
    "Thuộc tính: int x, y\n",
    "\n",
    "Phương thức:\n",
    "\n",
    "Cấu tử không tham số\n",
    "Cấu tử có tham số\n",
    "Hủy\n",
    "Nạp chồng toán tử nhập\n",
    "Nạp chồng toán tử xuất\n",
    "CheoChinh : hàm kiểm tra Point có thuộc đường chéo chính hay không (1 điểm thuộc đường chéo chính khi và chỉ khi tung độ bằng hoành độ).\n",
    "Xây dựng lớp Pixel kế thừa từ lớp Color và Point bao gồm thêm:\n",
    "Phương thức:\n",
    "\n",
    "Cấu tử không tham số\n",
    "Cấu tử có tham số\n",
    "Nạp chồng toán tử nhập\n",
    "Nạp chồng toán tử xuất\n",
    "KiemTra: hàm kiểm tra Pixel thuộc đường chéo chính và có màu “Xanh” hay không?\n",
    "Chương trình chính: Nhập vào từ bàn phím n Pixel (n nhập từ bàn phím). Hiển thị thông\n",
    "tin các Pixel thuộc đường chéo chính và có màu xanh.\"\"\""
   ]
  },
  {
   "cell_type": "code",
   "execution_count": null,
   "id": "ae5df8db",
   "metadata": {},
   "outputs": [],
   "source": []
  },
  {
   "cell_type": "markdown",
   "id": "42ca9af9",
   "metadata": {},
   "source": []
  }
 ],
 "metadata": {
  "kernelspec": {
   "display_name": "Python 3 (ipykernel)",
   "language": "python",
   "name": "python3"
  },
  "language_info": {
   "codemirror_mode": {
    "name": "ipython",
    "version": 3
   },
   "file_extension": ".py",
   "mimetype": "text/x-python",
   "name": "python",
   "nbconvert_exporter": "python",
   "pygments_lexer": "ipython3",
   "version": "3.9.13"
  },
  "vscode": {
   "interpreter": {
    "hash": "9deea79bfd8769c20cdb41e577c31349975f53057f7c4a88718c49dab3f025eb"
   }
  }
 },
 "nbformat": 4,
 "nbformat_minor": 5
}
