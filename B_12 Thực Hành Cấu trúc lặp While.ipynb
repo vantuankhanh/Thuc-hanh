{
 "cells": [
  {
   "cell_type": "markdown",
   "id": "4bb7ce8c",
   "metadata": {},
   "source": [
    "# Thực Hành Vòng lặp While"
   ]
  },
  {
   "cell_type": "code",
   "execution_count": 29,
   "id": "31713936",
   "metadata": {},
   "outputs": [
    {
     "name": "stdout",
     "output_type": "stream",
     "text": [
      "1015\n",
      "1050\n",
      "1085\n",
      "1120\n",
      "1155\n",
      "1190\n",
      "1225\n",
      "1260\n",
      "1295\n",
      "1330\n",
      "1365\n",
      "1400\n",
      "1435\n",
      "1470\n",
      "1505\n",
      "1540\n",
      "1575\n",
      "1610\n",
      "1645\n",
      "1680\n",
      "1715\n",
      "1750\n",
      "1785\n",
      "1820\n",
      "1855\n",
      "1890\n",
      "1925\n",
      "1960\n",
      "1995\n",
      "2030\n",
      "2065\n",
      "2100\n",
      "2135\n",
      "2170\n",
      "2205\n",
      "2240\n",
      "2275\n",
      "2310\n",
      "2345\n",
      "2380\n",
      "2415\n",
      "2450\n",
      "2485\n",
      "2520\n",
      "2555\n",
      "2590\n",
      "2625\n",
      "2660\n",
      "2695\n"
     ]
    }
   ],
   "source": [
    "\"\"\"\n",
    "Bài 1:viết chương trình in ra tất cả các số chia hết cho 5 và 7 trong khoảng từ 1000 đến 2700\n",
    "\n",
    "\"\"\"\n",
    "i=1000\n",
    "while i<=2700:\n",
    "    if i%5==0 and i%7==0:\n",
    "        print(i)\n",
    "    i+=1   \n"
   ]
  },
  {
   "cell_type": "code",
   "execution_count": 28,
   "id": "4ddcd58c",
   "metadata": {},
   "outputs": [
    {
     "name": "stdout",
     "output_type": "stream",
     "text": [
      "Nhập chiều cao tam giác: 5\n",
      "*****\n",
      "****\n",
      "***\n",
      "**\n",
      "*\n"
     ]
    }
   ],
   "source": [
    "\"\"\"\n",
    "Bài 2 : Viết chương trình nhập vào chiều cao tam giác vuông và in ra hình tam giác có hình dạng như sau:\n",
    "*****\n",
    "****\n",
    "***\n",
    "**\n",
    "*\n",
    "\"\"\"\n",
    "a=int(input('Nhập chiều cao tam giác: '))\n",
    "i=a\n",
    "while i>0:\n",
    "    print('*'*i)\n",
    "    i-=1"
   ]
  },
  {
   "cell_type": "code",
   "execution_count": 27,
   "id": "d7a43af9",
   "metadata": {},
   "outputs": [
    {
     "name": "stdout",
     "output_type": "stream",
     "text": [
      "Nhập chiều cao tam giác: 5\n",
      "* * * * * \n",
      "* * * * \n",
      "* * * \n",
      "* * \n",
      "* \n"
     ]
    }
   ],
   "source": [
    "\"\"\"\n",
    "Bài 3: Viết chương trình nhập vào chiều cao của tam giác vuông và in ra tam giác có hình dạng như sau:\n",
    "* * * * * *\n",
    "* * * * *\n",
    "* * * * \n",
    "* * * \n",
    "* * \n",
    "*\n",
    "\"\"\"\n",
    "a=int(input('Nhập chiều cao tam giác: '))\n",
    "i=a\n",
    "while i>0:\n",
    "    print('* '*i)\n",
    "    i-=1"
   ]
  },
  {
   "cell_type": "code",
   "execution_count": 26,
   "id": "1a6f16df",
   "metadata": {},
   "outputs": [
    {
     "name": "stdout",
     "output_type": "stream",
     "text": [
      "Nhập chiều cao tam giác: 5\n",
      "* - * - * \n",
      "* - * - \n",
      "* - * \n",
      "* - \n",
      "* \n"
     ]
    }
   ],
   "source": [
    "\"\"\"\n",
    "Bài 4: Viết chương trình nhập vào chiều cao tam giác vuông và in ra tam giác có hình dạng như sau:\n",
    "* - * - *\n",
    "* - * -\n",
    "* - *\n",
    "* -\n",
    "*\n",
    "\"\"\"\n",
    "a=int(input('Nhập chiều cao tam giác: '))\n",
    "i=a\n",
    "while i>0:\n",
    "    if i%2==0:\n",
    "        j=i//2\n",
    "        print('* - '*j)\n",
    "        i-=1\n",
    "    else:\n",
    "        j=i//2+1\n",
    "        print('* - '*j+'\\b\\b')\n",
    "        i-=1"
   ]
  },
  {
   "cell_type": "code",
   "execution_count": 1,
   "id": "6c9d2b0c",
   "metadata": {},
   "outputs": [
    {
     "data": {
      "text/plain": [
       "'\\nBài 5: Viết chương trình bằng while  để tìm tổng dãy số: 1/1 + 1/2 + 1/3 + 1/4 + ... với số phần tử nhập từ bàn phím.\\n'"
      ]
     },
     "execution_count": 1,
     "metadata": {},
     "output_type": "execute_result"
    }
   ],
   "source": [
    "\"\"\"\n",
    "Bài 5: Viết chương trình bằng while  để tìm tổng dãy số: 1/1 + 1/2 + 1/3 + 1/4 + ... với số phần tử nhập từ bàn phím.\n",
    "\"\"\"\n",
    "\n",
    "n = int(input('Nhập n: '))\n",
    "i=1\n",
    "s=0\n",
    "while i<=n:\n",
    "    s+=1/i\n",
    "    i+=1\n",
    "print(s)"
   ]
  },
  {
   "cell_type": "code",
   "execution_count": 25,
   "id": "07669a93",
   "metadata": {},
   "outputs": [
    {
     "name": "stdout",
     "output_type": "stream",
     "text": [
      "Nhập x: 6\n",
      "Nhập n: 5\n",
      "-2.8057142857142807\n"
     ]
    }
   ],
   "source": [
    "\"\"\"\n",
    "Bài 6: Viết chương trình bằng while để tìm tổng dãy số: 1 - x2/2! + x4/4! - ... với giá trị x và số phần tử nhập từ bàn phím.\n",
    "\"\"\"\n",
    "import math as m\n",
    "x = int(input('Nhập x: '))\n",
    "n = int(input('Nhập n: '))\n",
    "i=0\n",
    "s=0\n",
    "a=1\n",
    "while i<=n:\n",
    "    s += (-1)**i * x**(2*i)/m.factorial(2*i)\n",
    "    i+=1\n",
    "print(s)"
   ]
  },
  {
   "cell_type": "code",
   "execution_count": 23,
   "id": "f062542f",
   "metadata": {},
   "outputs": [
    {
     "name": "stdout",
     "output_type": "stream",
     "text": [
      "Nhập số thứ nhất: 5\n",
      "Nhập số thứ hai: 15\n",
      "UCLN = 5\n"
     ]
    }
   ],
   "source": [
    "\"\"\"\n",
    "Bài 7: Viết chương trình bằng while để tìm ước số chung lớn nhất của hai số được nhập từ bàn phím\n",
    "\"\"\"\n",
    "a = int(input('Nhập số thứ nhất: '))\n",
    "b = int(input('Nhập số thứ hai: '))\n",
    "if a==0:\n",
    "    print('UCLN =',b)\n",
    "elif b==0:\n",
    "    print('UCLN =',a)\n",
    "else:\n",
    "    if a<b:\n",
    "        a,b=b,a\n",
    "    while b!=0:\n",
    "        a%=b\n",
    "        a,b=b,a\n",
    "    print('UCLN =',a)\n"
   ]
  },
  {
   "cell_type": "code",
   "execution_count": 22,
   "id": "a26a6c45",
   "metadata": {},
   "outputs": [
    {
     "name": "stdout",
     "output_type": "stream",
     "text": [
      "Nhập số thứ nhất: 12\n",
      "Nhập số thứ hai: 6\n",
      "BCNN = 12\n"
     ]
    }
   ],
   "source": [
    "'''\n",
    "Bài 8: Viết chương trình bằng while để tìm bội số chung nhỏ nhất của hai số bất kỳ được nhập từ bàn phím và không sử dụng ước số \n",
    "chung lớn nhất (USCLN) của hai số đó\n",
    "'''\n",
    "a = int(input('Nhập số thứ nhất: '))\n",
    "b = int(input('Nhập số thứ hai: '))\n",
    "i=max(a,b)\n",
    "while i<=a*b:\n",
    "    if i%a==0 and i%b==0:\n",
    "        break\n",
    "    else:\n",
    "        i+=1\n",
    "print('BCNN =',i)"
   ]
  },
  {
   "cell_type": "code",
   "execution_count": 48,
   "id": "b4460c5d",
   "metadata": {},
   "outputs": [
    {
     "name": "stdout",
     "output_type": "stream",
     "text": [
      "Nhập n:7\n",
      "    *    \n",
      "   ***   \n",
      "  *****  \n",
      " ******* \n",
      "  *****  \n",
      "   ***   \n",
      "    *    \n"
     ]
    }
   ],
   "source": [
    "\"\"\"\n",
    "Bài 9: viết chương trình dùng while Vẽ hình kim cương bằng dấu sao\n",
    "\"\"\"\n",
    "n=int(input('Nhập n:'))\n",
    "i=n-1\n",
    "while i>=-n+1:\n",
    "    if i>=0:\n",
    "        print(' '*(i//2),'*'*((n-i)),' '*(i//2))\n",
    "        i-=2\n",
    "    else:\n",
    "        print(' '*(-i//2),'*'*((n+i)),' '*(-i//2))\n",
    "        i-=2\n"
   ]
  },
  {
   "attachments": {
    "image.png": {
     "image/png": "[encoded data removed]"
    }
   },
   "cell_type": "markdown",
   "id": "12100c28",
   "metadata": {},
   "source": [
    "![image.png](attachment:image.png)"
   ]
  },
  {
   "cell_type": "code",
   "execution_count": 52,
   "id": "8ff7e1b6",
   "metadata": {},
   "outputs": [
    {
     "name": "stdout",
     "output_type": "stream",
     "text": [
      "Lựa chọn của bạn là (1-Búa, 2-Kéo,3-Bao): 3\n",
      "Máy lựa chọn: 2\n",
      "Bạn đã thua\n"
     ]
    }
   ],
   "source": [
    "\"\"\"\n",
    "Bài 10: Viết chương trình mô phỏng trò chơi kéo búa bao theo luật chơi như sau:\n",
    "Quy ước : 1 - Búa,2-kéo,3-bao\n",
    "khi trò chơi bắt đầu , yêu cầu người chơi nhập 1 số từ bàn phím đại diện cho kéo ,búa,bao\n",
    "chương trình tự random ra một lựa chọn từ 1 đến 3\n",
    "Nếu người chơi thua thì tiếp tục chơi cho đến khi kết thúc chương trình\n",
    "ví dụ:\n",
    "Lựa chọn(1-Búa, 2-Kéo,3-Bao): 1\n",
    "Máy tính chọn : 3\n",
    "Người chơi thua\n",
    "\n",
    "Lựa chọn(1-Búa, 2-Kéo,3-Bao): 2\n",
    "Máy tính chọn : 1\n",
    "Người chơi thua\n",
    "\n",
    "Lựa chọn(1-Búa, 2-Kéo,3-Bao): 1\n",
    "Máy tính chọn : 2\n",
    "Người chơi thắng\n",
    "\n",
    "\"\"\"\n",
    "from random import randint\n",
    "\n",
    "while True:\n",
    "    human=int(input('Lựa chọn của bạn là (1-Búa, 2-Kéo,3-Bao): '))\n",
    "    if human in [1,2,3]:\n",
    "        break\n",
    "    else:\n",
    "        print('Bạn nhập sai rồi!')\n",
    "com = randint(1, 3)\n",
    "print('Máy lựa chọn:',com)\n",
    "if human==com:\n",
    "    print('Bạn hòa với máy')\n",
    "elif (human==1 and com==2) or (human==2 and com==3) or (human==3 and com==1):\n",
    "    print('Bạn đã thắng')\n",
    "else:\n",
    "    print('Bạn đã thua')"
   ]
  },
  {
   "cell_type": "code",
   "execution_count": null,
   "id": "38d728e7",
   "metadata": {},
   "outputs": [],
   "source": []
  }
 ],
 "metadata": {
  "kernelspec": {
   "display_name": "Python 3 (ipykernel)",
   "language": "python",
   "name": "python3"
  },
  "language_info": {
   "codemirror_mode": {
    "name": "ipython",
    "version": 3
   },
   "file_extension": ".py",
   "mimetype": "text/x-python",
   "name": "python",
   "nbconvert_exporter": "python",
   "pygments_lexer": "ipython3",
   "version": "3.9.13"
  }
 },
 "nbformat": 4,
 "nbformat_minor": 5
}
